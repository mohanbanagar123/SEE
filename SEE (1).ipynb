{
  "nbformat": 4,
  "nbformat_minor": 0,
  "metadata": {
    "colab": {
      "provenance": []
    },
    "kernelspec": {
      "name": "python3",
      "display_name": "Python 3"
    },
    "language_info": {
      "name": "python"
    }
  },
  "cells": [
    {
      "cell_type": "code",
      "execution_count": 3,
      "metadata": {
        "colab": {
          "base_uri": "https://localhost:8080/"
        },
        "id": "yh0_S12jRv-M",
        "outputId": "e0ae9649-b2c7-4708-91e8-c6be321a81ca"
      },
      "outputs": [
        {
          "output_type": "stream",
          "name": "stdout",
          "text": [
            "sample data:    nofish  livebait  camper  persons  child        xb        zg  count\n",
            "0       1         0       0        1      0 -0.896315  3.050405      0\n",
            "1       0         1       1        1      0 -0.558345  1.746149      0\n",
            "2       0         1       0        1      0 -0.401731  0.279939      0\n",
            "3       0         1       1        2      1 -0.956298 -0.601526      0\n",
            "4       0         1       0        1      0  0.436891  0.527709      1\n",
            "summary of dataset:            nofish    livebait      camper    persons       child          xb  \\\n",
            "count  250.000000  250.000000  250.000000  250.00000  250.000000  250.000000   \n",
            "mean     0.296000    0.864000    0.588000    2.52800    0.684000    0.973796   \n",
            "std      0.457407    0.343476    0.493182    1.11273    0.850315    1.440277   \n",
            "min      0.000000    0.000000    0.000000    1.00000    0.000000   -3.275050   \n",
            "25%      0.000000    1.000000    0.000000    2.00000    0.000000    0.008267   \n",
            "50%      0.000000    1.000000    1.000000    2.00000    0.000000    0.954550   \n",
            "75%      1.000000    1.000000    1.000000    4.00000    1.000000    1.963855   \n",
            "max      1.000000    1.000000    1.000000    4.00000    3.000000    5.352674   \n",
            "\n",
            "               zg       count  \n",
            "count  250.000000  250.000000  \n",
            "mean     0.252323    3.296000  \n",
            "std      2.102391   11.635028  \n",
            "min     -5.625944    0.000000  \n",
            "25%     -1.252724    0.000000  \n",
            "50%      0.605079    0.000000  \n",
            "75%      1.993237    2.000000  \n",
            "max      4.263185  149.000000  \n",
            "checking null values: nofish      0\n",
            "livebait    0\n",
            "camper      0\n",
            "persons     0\n",
            "child       0\n",
            "xb          0\n",
            "zg          0\n",
            "count       0\n",
            "dtype: int64\n",
            "Accuracy score: 0.66\n",
            "r2 score: -0.09142676368237912\n",
            "classification report:               precision    recall  f1-score   support\n",
            "\n",
            "           0       0.66      1.00      0.80        33\n",
            "           1       0.00      0.00      0.00         5\n",
            "           2       0.00      0.00      0.00         4\n",
            "           3       0.00      0.00      0.00         1\n",
            "           5       0.00      0.00      0.00         1\n",
            "           6       0.00      0.00      0.00         2\n",
            "           9       0.00      0.00      0.00         1\n",
            "          16       0.00      0.00      0.00         1\n",
            "          30       0.00      0.00      0.00         1\n",
            "          65       0.00      0.00      0.00         1\n",
            "\n",
            "    accuracy                           0.66        50\n",
            "   macro avg       0.07      0.10      0.08        50\n",
            "weighted avg       0.44      0.66      0.52        50\n",
            "\n"
          ]
        },
        {
          "output_type": "stream",
          "name": "stderr",
          "text": [
            "/usr/local/lib/python3.10/dist-packages/sklearn/metrics/_classification.py:1344: UndefinedMetricWarning: Precision and F-score are ill-defined and being set to 0.0 in labels with no predicted samples. Use `zero_division` parameter to control this behavior.\n",
            "  _warn_prf(average, modifier, msg_start, len(result))\n",
            "/usr/local/lib/python3.10/dist-packages/sklearn/metrics/_classification.py:1344: UndefinedMetricWarning: Precision and F-score are ill-defined and being set to 0.0 in labels with no predicted samples. Use `zero_division` parameter to control this behavior.\n",
            "  _warn_prf(average, modifier, msg_start, len(result))\n",
            "/usr/local/lib/python3.10/dist-packages/sklearn/metrics/_classification.py:1344: UndefinedMetricWarning: Precision and F-score are ill-defined and being set to 0.0 in labels with no predicted samples. Use `zero_division` parameter to control this behavior.\n",
            "  _warn_prf(average, modifier, msg_start, len(result))\n"
          ]
        }
      ],
      "source": [
        "import pandas as pd\n",
        "from sklearn.model_selection import train_test_split\n",
        "from sklearn import svm\n",
        "from sklearn.metrics import accuracy_score,classification_report,r2_score\n",
        "\n",
        "df=pd.read_csv('/content/fish.csv')\n",
        "\n",
        "print('sample data:',df.head())\n",
        "print('summary of dataset:',df.describe())\n",
        "print('checking null values:',df.isnull().sum())\n",
        "\n",
        "x=df[['nofish','xb']]\n",
        "y=df['count']\n",
        "\n",
        "x_train,x_test,y_train,y_test=train_test_split(x,y,test_size=0.2,random_state=42)\n",
        "\n",
        "model=svm.SVC(kernel='linear')\n",
        "model.fit(x_train,y_train)\n",
        "\n",
        "xtest=model.predict(x_test)\n",
        "acc=accuracy_score(y_test,xtest)\n",
        "score=r2_score(y_test,xtest)\n",
        "report=classification_report(y_test,xtest)\n",
        "\n",
        "print('Accuracy score:',acc)\n",
        "print('r2 score:',score)\n",
        "print('classification report:',report)"
      ]
    }
  ]
}